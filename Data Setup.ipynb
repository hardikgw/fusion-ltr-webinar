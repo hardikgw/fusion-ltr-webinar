{
 "cells": [
  {
   "cell_type": "markdown",
   "metadata": {},
   "source": [
    "# Data Setup for LTR Demonstration\n",
    "\n",
    "* Prerequisites: Product catalog and signals are indexed\n",
    "\n",
    "This notebook reindexes the product catalog with each products' previous clickthrough queries stored in a new `previous_click_queries` field. For example, if our signals collection contains these click events:\n",
    "\n",
    "```\n",
    "type    query              doc_id\n",
    "------  ---------------  --------\n",
    "click   ipad                    1\n",
    "click   ipad                    2\n",
    "click   ipad2                   1\n",
    "click   ipad                    1\n",
    "click   ipad case               3\n",
    "click   ipad case black         4\n",
    "click   ipad black              4\n",
    "click   ipad                    1\n",
    "```\n",
    "\n",
    "The resulting product catalog would look like (for these docs, omitting all existing fields for each product):\n",
    "\n",
    "```\n",
    "  id  previous_click_queries\n",
    "----  -------------------------\n",
    "   1  [ipad, ipad2, ipad, ipad]\n",
    "   2  [ipad]\n",
    "   3  [ipad case]\n",
    "   4  [ipad case black, black]\n",
    "```\n",
    "\n",
    "This demonstrates the value of using previous user interactions as relevance factors in an LTR model. "
   ]
  },
  {
   "cell_type": "markdown",
   "metadata": {},
   "source": [
    "## Constants"
   ]
  },
  {
   "cell_type": "code",
   "execution_count": 12,
   "metadata": {},
   "outputs": [],
   "source": [
    "COLLECTION_NAME = 'bestbuy'\n",
    "SIGNALS_COLLECTION_NAME = 'bestbuy_signals'\n",
    "ZKHOST = 'localhost:9983/lwfusion/4.0.0-SNAPSHOT/solr'\n",
    "SOLR_URL = 'http://localhost:8983/solr'"
   ]
  },
  {
   "cell_type": "markdown",
   "metadata": {},
   "source": [
    "## Update Solr Schema to use a custom similarity for `previous_click_queries`\n",
    "\n",
    "The default BM25 similarity will cap term frequency's contribution asymptotically.  Additionally, BM25 normalizes by document length, which means that longer documents will be penalized. \n",
    "\n",
    "Repeated matches in the `previous_click_queries` field indicate product popularity for a given term (which we want to reward), so let's set `k` and `b` to remove the dampening effect."
   ]
  },
  {
   "cell_type": "code",
   "execution_count": 14,
   "metadata": {},
   "outputs": [
    {
     "data": {
      "text/plain": [
       "<Response [200]>"
      ]
     },
     "execution_count": 14,
     "metadata": {},
     "output_type": "execute_result"
    }
   ],
   "source": [
    "import json\n",
    "import requests\n",
    "\n",
    "signal_field_type = {\n",
    "    'name': 'text_signals',\n",
    "    'class': 'solr.TextField',\n",
    "    'indexAnalyzer': {\n",
    "        'filters': [\n",
    "            {\n",
    "                'class': 'solr.StopFilterFactory',\n",
    "                'ignoreCase': 'true',\n",
    "                'words': 'stopwords.txt'\n",
    "            },\n",
    "            {\n",
    "                'class': 'solr.LowerCaseFilterFactory'\n",
    "            }\n",
    "        ],\n",
    "        'tokenizer': {\n",
    "            'class': 'solr.StandardTokenizerFactory'\n",
    "        }\n",
    "    },\n",
    "    'multiValued': True,\n",
    "    'positionIncrementGap': '100',\n",
    "    'queryAnalyzer': {\n",
    "        'filters': [\n",
    "            {'class': 'solr.StopFilterFactory',\n",
    "             'ignoreCase': 'true',\n",
    "             'words': 'stopwords.txt'\n",
    "             },\n",
    "            {\n",
    "                'class': 'solr.SynonymGraphFilterFactory',\n",
    "                'expand': 'true',\n",
    "                'ignoreCase': 'true',\n",
    "                'synonyms': 'synonyms.txt'\n",
    "            },\n",
    "            {\n",
    "                'class': 'solr.LowerCaseFilterFactory'\n",
    "            }\n",
    "        ],\n",
    "        'tokenizer': {\n",
    "            'class': 'solr.StandardTokenizerFactory'\n",
    "        }\n",
    "    },\n",
    "    'similarity': {\n",
    "        'class': 'solr.BM25SimilarityFactory',\n",
    "        'k1': '100000',\n",
    "        'b': '0'\n",
    "    }\n",
    "}\n",
    "\n",
    "requests.post('{}/{}/schema'.format(SOLR_URL, COLLECTION_NAME), headers={\n",
    "    'Content-type': 'application/json'\n",
    "}, data=json.dumps({\n",
    "    'add-field-type': signal_field_type\n",
    "}))\n",
    "\n",
    "requests.post('{}/{}/schema'.format(SOLR_URL, COLLECTION_NAME), headers={\n",
    "    'Content-type': 'application/json'\n",
    "}, data=json.dumps({\n",
    "    'add-field': {\n",
    "        'name': 'previous_click_queries',\n",
    "        'type': 'text_signals',\n",
    "        'stored': True,\n",
    "        'indexed': True,\n",
    "        'multiValued': True\n",
    "    }\n",
    "}))"
   ]
  },
  {
   "cell_type": "markdown",
   "metadata": {},
   "source": [
    "## Create Spark SQL views over Solr collections using Fusion's `spark-solr` connector"
   ]
  },
  {
   "cell_type": "code",
   "execution_count": 8,
   "metadata": {},
   "outputs": [],
   "source": [
    "spark.read.load(format='solr',\n",
    "                collection=COLLECTION_NAME,\n",
    "                zkhost=ZKHOST,\n",
    "                flatten_multivalued='false',\n",
    "                request_handler='/select'  # This will preserve the value of multi-valued fields\n",
    ").createOrReplaceTempView('bestbuy')\n",
    "\n",
    "spark.read.load(format='solr',\n",
    "                     collection='bestbuy_signals',\n",
    "                     zkhost=ZKHOST,\n",
    "                     flatten_multivalued='false',\n",
    "                     request_handler='/select'  # This will preserve the value of multi-valued fields\n",
    ").createOrReplaceTempView('bestbuy_signals')"
   ]
  },
  {
   "cell_type": "markdown",
   "metadata": {},
   "source": [
    "## Find all queries that led to a click of a product\n",
    "\n",
    "1. Create a temporary view called `previous_click_queries_by_doc_id` with `<product ID, [ query1, query2, query3, ... ]` tuples\n",
    "2. Left join `previous_click_queries_by_doc_id` with `bestbuy` on `doc_id` and reindex `bestbuy collection`, which now includes `previous_click_queries` field"
   ]
  },
  {
   "cell_type": "code",
   "execution_count": 10,
   "metadata": {},
   "outputs": [],
   "source": [
    "SQL = \"\"\"\n",
    "select \n",
    "    doc_id, collect_list(query_s) as previous_click_queries\n",
    "from \n",
    "    bestbuy_signals\n",
    "group by doc_id\n",
    "\"\"\"\n",
    "spark.sql(SQL).createOrReplaceTempView(\"previous_click_queries_by_doc_id\")"
   ]
  },
  {
   "cell_type": "code",
   "execution_count": 11,
   "metadata": {},
   "outputs": [],
   "source": [
    "SQL = \"\"\"\n",
    "select a.*, b.previous_click_queries\n",
    "from bestbuy a left join previous_click_queries_by_doc_id b\n",
    "on a.id = b.doc_id\n",
    "\"\"\"\n",
    "new_product_catalog_df = spark.sql(SQL)"
   ]
  },
  {
   "cell_type": "code",
   "execution_count": null,
   "metadata": {},
   "outputs": [],
   "source": [
    "new_product_catalog_df.write.save(format='solr',\n",
    "                      collection='bestbuy',\n",
    "                      flatten_multivalued='false',\n",
    "                      zkhost=zkhost,\n",
    "                      commit_within='10000')"
   ]
  }
 ],
 "metadata": {
  "kernelspec": {
   "display_name": "Python 2",
   "language": "python",
   "name": "python2"
  },
  "language_info": {
   "codemirror_mode": {
    "name": "ipython",
    "version": 2
   },
   "file_extension": ".py",
   "mimetype": "text/x-python",
   "name": "python",
   "nbconvert_exporter": "python",
   "pygments_lexer": "ipython2",
   "version": "2.7.14"
  }
 },
 "nbformat": 4,
 "nbformat_minor": 2
}
